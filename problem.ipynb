{
 "cells": [
  {
   "cell_type": "markdown",
   "id": "f05d98f6",
   "metadata": {},
   "source": [
    "# 🚚 Delivery Truck Routing Optimization Using Linear Programming\n",
    "\n",
    "## 🧩 Business Problem\n",
    "\n",
    "A logistics company needs to deliver packages to 3 cities (A, B, C) from a central warehouse. Each city has a specific demand and different delivery costs. The objective is to **minimize the total delivery cost** while meeting all city demands.\n",
    "\n",
    "### ✅ Problem Setup\n",
    "\n",
    "| City   | Demand (units) | Cost per unit (₹) |\n",
    "|--------|----------------|-------------------|\n",
    "| A      | 30             | 4                 |\n",
    "| B      | 50             | 6                 |\n",
    "| C      | 20             | 8                 |\n",
    "\n",
    "🚛 Truck capacity is 40 units per trip, but we assume unlimited trucks (capacity isn’t a constraint in this basic model).\n"
   ]
  },
  {
   "cell_type": "code",
   "execution_count": 1,
   "id": "540bb960",
   "metadata": {},
   "outputs": [],
   "source": [
    "# Import PuLP\n",
    "import pulp\n",
    "\n",
    "# Define the problem\n",
    "model = pulp.LpProblem(\"Delivery_Cost_Minimization\", pulp.LpMinimize)\n"
   ]
  },
  {
   "cell_type": "code",
   "execution_count": 2,
   "id": "6aa02d6a",
   "metadata": {},
   "outputs": [],
   "source": [
    "# Decision variables: number of units to send to each city\n",
    "# These are fixed to meet demand exactly\n",
    "x_A = pulp.LpVariable('x_A', lowBound=30, upBound=30, cat='Continuous')\n",
    "x_B = pulp.LpVariable('x_B', lowBound=50, upBound=50, cat='Continuous')\n",
    "x_C = pulp.LpVariable('x_C', lowBound=20, upBound=20, cat='Continuous')\n"
   ]
  },
  {
   "cell_type": "code",
   "execution_count": 3,
   "id": "d947f773",
   "metadata": {},
   "outputs": [],
   "source": [
    "# Objective function: Minimize total delivery cost\n",
    "model += 4 * x_A + 6 * x_B + 8 * x_C, \"Total_Cost\"\n"
   ]
  },
  {
   "cell_type": "code",
   "execution_count": 4,
   "id": "1a30942f",
   "metadata": {},
   "outputs": [
    {
     "data": {
      "text/plain": [
       "1"
      ]
     },
     "execution_count": 4,
     "metadata": {},
     "output_type": "execute_result"
    }
   ],
   "source": [
    "# Solve the LP\n",
    "model.solve()\n"
   ]
  },
  {
   "cell_type": "code",
   "execution_count": 5,
   "id": "8a5ffc6d",
   "metadata": {},
   "outputs": [
    {
     "name": "stdout",
     "output_type": "stream",
     "text": [
      "Status: Optimal\n",
      "Total Delivery Cost = ₹ 580.0\n",
      "Units to City A: 30.0\n",
      "Units to City B: 50.0\n",
      "Units to City C: 20.0\n"
     ]
    }
   ],
   "source": [
    "# Print results\n",
    "print(\"Status:\", pulp.LpStatus[model.status])\n",
    "print(\"Total Delivery Cost = ₹\", pulp.value(model.objective))\n",
    "print(\"Units to City A:\", x_A.varValue)\n",
    "print(\"Units to City B:\", x_B.varValue)\n",
    "print(\"Units to City C:\", x_C.varValue)\n"
   ]
  },
  {
   "cell_type": "markdown",
   "id": "6686df9c",
   "metadata": {},
   "source": [
    "Status: Optimal\n",
    "Total Delivery Cost = ₹ 580.0\n",
    "Units to City A: 30.0\n",
    "Units to City B: 50.0\n",
    "Units to City C: 20.0"
   ]
  },
  {
   "cell_type": "code",
   "execution_count": null,
   "id": "22091e65",
   "metadata": {},
   "outputs": [],
   "source": []
  }
 ],
 "metadata": {
  "kernelspec": {
   "display_name": "Python 3",
   "language": "python",
   "name": "python3"
  },
  "language_info": {
   "codemirror_mode": {
    "name": "ipython",
    "version": 3
   },
   "file_extension": ".py",
   "mimetype": "text/x-python",
   "name": "python",
   "nbconvert_exporter": "python",
   "pygments_lexer": "ipython3",
   "version": "3.13.3"
  }
 },
 "nbformat": 4,
 "nbformat_minor": 5
}
